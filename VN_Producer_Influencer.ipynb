{
  "nbformat": 4,
  "nbformat_minor": 0,
  "metadata": {
    "colab": {
      "provenance": [],
      "collapsed_sections": []
    },
    "kernelspec": {
      "name": "python3",
      "display_name": "Python 3"
    },
    "language_info": {
      "name": "python"
    }
  },
  "cells": [
    {
      "cell_type": "markdown",
      "source": [
        "# Run All"
      ],
      "metadata": {
        "id": "dqPTJfieVGuv"
      }
    },
    {
      "cell_type": "markdown",
      "source": [
        "## Import and Load"
      ],
      "metadata": {
        "id": "tYE7az_TVI_a"
      }
    },
    {
      "cell_type": "markdown",
      "source": [
        "Import library yang dibutuhkan"
      ],
      "metadata": {
        "id": "4enSTSAyubGk"
      }
    },
    {
      "cell_type": "code",
      "execution_count": null,
      "metadata": {
        "id": "HfarWBYwUH4j"
      },
      "outputs": [],
      "source": [
        "import pandas as pd\n",
        "import networkx as nx\n",
        "import matplotlib as mpl\n",
        "import matplotlib.pyplot as plt\n",
        "from matplotlib import rcParams\n",
        "%matplotlib inline"
      ]
    },
    {
      "cell_type": "markdown",
      "source": [
        "Mengubah Style"
      ],
      "metadata": {
        "id": "Tlke4cg-udxv"
      }
    },
    {
      "cell_type": "code",
      "source": [
        "rcParams['figure.figsize'] = 15, 8\n",
        "mpl.style.use(['ggplot'])"
      ],
      "metadata": {
        "id": "QTBl5kAJjn9c"
      },
      "execution_count": null,
      "outputs": []
    },
    {
      "cell_type": "markdown",
      "source": [
        "Load Dataset"
      ],
      "metadata": {
        "id": "DsO6hkpxufpk"
      }
    },
    {
      "cell_type": "code",
      "source": [
        "df_producers_relation = pd.read_excel('https://drive.google.com/uc?id=16-5ODNyWU3hvnJoZUjdLrEeZWTQhgxO9')"
      ],
      "metadata": {
        "id": "aLRoXtPiUwrc"
      },
      "execution_count": null,
      "outputs": []
    },
    {
      "cell_type": "markdown",
      "source": [
        "Lihat Dataset"
      ],
      "metadata": {
        "id": "1G53BXPeujBB"
      }
    },
    {
      "cell_type": "code",
      "source": [
        "df_producers_relation.head()"
      ],
      "metadata": {
        "colab": {
          "base_uri": "https://localhost:8080/",
          "height": 206
        },
        "id": "KTsL462HVA1S",
        "outputId": "eccccaff-eac2-4efd-ded7-a18cc83951ae"
      },
      "execution_count": null,
      "outputs": [
        {
          "output_type": "execute_result",
          "data": {
            "text/plain": [
              "   id    pid relation                  p1_name         p2_name\n",
              "0  p1   p266      par  Yamikumo-Communications        CD Bros.\n",
              "1  p2   p266      par                 Sekilala        CD Bros.\n",
              "2  p3   p102      par            G-Collections        JAST USA\n",
              "3  p3   p266      par            G-Collections        CD Bros.\n",
              "4  p4  p5633      ipa                      age  ACID Co., Ltd."
            ],
            "text/html": [
              "\n",
              "  <div id=\"df-b8eee154-d9f2-475f-a79d-19ea7410098b\">\n",
              "    <div class=\"colab-df-container\">\n",
              "      <div>\n",
              "<style scoped>\n",
              "    .dataframe tbody tr th:only-of-type {\n",
              "        vertical-align: middle;\n",
              "    }\n",
              "\n",
              "    .dataframe tbody tr th {\n",
              "        vertical-align: top;\n",
              "    }\n",
              "\n",
              "    .dataframe thead th {\n",
              "        text-align: right;\n",
              "    }\n",
              "</style>\n",
              "<table border=\"1\" class=\"dataframe\">\n",
              "  <thead>\n",
              "    <tr style=\"text-align: right;\">\n",
              "      <th></th>\n",
              "      <th>id</th>\n",
              "      <th>pid</th>\n",
              "      <th>relation</th>\n",
              "      <th>p1_name</th>\n",
              "      <th>p2_name</th>\n",
              "    </tr>\n",
              "  </thead>\n",
              "  <tbody>\n",
              "    <tr>\n",
              "      <th>0</th>\n",
              "      <td>p1</td>\n",
              "      <td>p266</td>\n",
              "      <td>par</td>\n",
              "      <td>Yamikumo-Communications</td>\n",
              "      <td>CD Bros.</td>\n",
              "    </tr>\n",
              "    <tr>\n",
              "      <th>1</th>\n",
              "      <td>p2</td>\n",
              "      <td>p266</td>\n",
              "      <td>par</td>\n",
              "      <td>Sekilala</td>\n",
              "      <td>CD Bros.</td>\n",
              "    </tr>\n",
              "    <tr>\n",
              "      <th>2</th>\n",
              "      <td>p3</td>\n",
              "      <td>p102</td>\n",
              "      <td>par</td>\n",
              "      <td>G-Collections</td>\n",
              "      <td>JAST USA</td>\n",
              "    </tr>\n",
              "    <tr>\n",
              "      <th>3</th>\n",
              "      <td>p3</td>\n",
              "      <td>p266</td>\n",
              "      <td>par</td>\n",
              "      <td>G-Collections</td>\n",
              "      <td>CD Bros.</td>\n",
              "    </tr>\n",
              "    <tr>\n",
              "      <th>4</th>\n",
              "      <td>p4</td>\n",
              "      <td>p5633</td>\n",
              "      <td>ipa</td>\n",
              "      <td>age</td>\n",
              "      <td>ACID Co., Ltd.</td>\n",
              "    </tr>\n",
              "  </tbody>\n",
              "</table>\n",
              "</div>\n",
              "      <button class=\"colab-df-convert\" onclick=\"convertToInteractive('df-b8eee154-d9f2-475f-a79d-19ea7410098b')\"\n",
              "              title=\"Convert this dataframe to an interactive table.\"\n",
              "              style=\"display:none;\">\n",
              "        \n",
              "  <svg xmlns=\"http://www.w3.org/2000/svg\" height=\"24px\"viewBox=\"0 0 24 24\"\n",
              "       width=\"24px\">\n",
              "    <path d=\"M0 0h24v24H0V0z\" fill=\"none\"/>\n",
              "    <path d=\"M18.56 5.44l.94 2.06.94-2.06 2.06-.94-2.06-.94-.94-2.06-.94 2.06-2.06.94zm-11 1L8.5 8.5l.94-2.06 2.06-.94-2.06-.94L8.5 2.5l-.94 2.06-2.06.94zm10 10l.94 2.06.94-2.06 2.06-.94-2.06-.94-.94-2.06-.94 2.06-2.06.94z\"/><path d=\"M17.41 7.96l-1.37-1.37c-.4-.4-.92-.59-1.43-.59-.52 0-1.04.2-1.43.59L10.3 9.45l-7.72 7.72c-.78.78-.78 2.05 0 2.83L4 21.41c.39.39.9.59 1.41.59.51 0 1.02-.2 1.41-.59l7.78-7.78 2.81-2.81c.8-.78.8-2.07 0-2.86zM5.41 20L4 18.59l7.72-7.72 1.47 1.35L5.41 20z\"/>\n",
              "  </svg>\n",
              "      </button>\n",
              "      \n",
              "  <style>\n",
              "    .colab-df-container {\n",
              "      display:flex;\n",
              "      flex-wrap:wrap;\n",
              "      gap: 12px;\n",
              "    }\n",
              "\n",
              "    .colab-df-convert {\n",
              "      background-color: #E8F0FE;\n",
              "      border: none;\n",
              "      border-radius: 50%;\n",
              "      cursor: pointer;\n",
              "      display: none;\n",
              "      fill: #1967D2;\n",
              "      height: 32px;\n",
              "      padding: 0 0 0 0;\n",
              "      width: 32px;\n",
              "    }\n",
              "\n",
              "    .colab-df-convert:hover {\n",
              "      background-color: #E2EBFA;\n",
              "      box-shadow: 0px 1px 2px rgba(60, 64, 67, 0.3), 0px 1px 3px 1px rgba(60, 64, 67, 0.15);\n",
              "      fill: #174EA6;\n",
              "    }\n",
              "\n",
              "    [theme=dark] .colab-df-convert {\n",
              "      background-color: #3B4455;\n",
              "      fill: #D2E3FC;\n",
              "    }\n",
              "\n",
              "    [theme=dark] .colab-df-convert:hover {\n",
              "      background-color: #434B5C;\n",
              "      box-shadow: 0px 1px 3px 1px rgba(0, 0, 0, 0.15);\n",
              "      filter: drop-shadow(0px 1px 2px rgba(0, 0, 0, 0.3));\n",
              "      fill: #FFFFFF;\n",
              "    }\n",
              "  </style>\n",
              "\n",
              "      <script>\n",
              "        const buttonEl =\n",
              "          document.querySelector('#df-b8eee154-d9f2-475f-a79d-19ea7410098b button.colab-df-convert');\n",
              "        buttonEl.style.display =\n",
              "          google.colab.kernel.accessAllowed ? 'block' : 'none';\n",
              "\n",
              "        async function convertToInteractive(key) {\n",
              "          const element = document.querySelector('#df-b8eee154-d9f2-475f-a79d-19ea7410098b');\n",
              "          const dataTable =\n",
              "            await google.colab.kernel.invokeFunction('convertToInteractive',\n",
              "                                                     [key], {});\n",
              "          if (!dataTable) return;\n",
              "\n",
              "          const docLinkHtml = 'Like what you see? Visit the ' +\n",
              "            '<a target=\"_blank\" href=https://colab.research.google.com/notebooks/data_table.ipynb>data table notebook</a>'\n",
              "            + ' to learn more about interactive tables.';\n",
              "          element.innerHTML = '';\n",
              "          dataTable['output_type'] = 'display_data';\n",
              "          await google.colab.output.renderOutput(dataTable, element);\n",
              "          const docLink = document.createElement('div');\n",
              "          docLink.innerHTML = docLinkHtml;\n",
              "          element.appendChild(docLink);\n",
              "        }\n",
              "      </script>\n",
              "    </div>\n",
              "  </div>\n",
              "  "
            ]
          },
          "metadata": {},
          "execution_count": 4
        }
      ]
    },
    {
      "cell_type": "markdown",
      "source": [
        "Ukuran Dataset"
      ],
      "metadata": {
        "id": "KtBoY76SumUE"
      }
    },
    {
      "cell_type": "code",
      "source": [
        "df_producers_relation.shape"
      ],
      "metadata": {
        "colab": {
          "base_uri": "https://localhost:8080/"
        },
        "id": "JDAkdxVsVMN0",
        "outputId": "d17afe6f-df95-49e1-f5ce-d045b4b103cb"
      },
      "execution_count": null,
      "outputs": [
        {
          "output_type": "execute_result",
          "data": {
            "text/plain": [
              "(5086, 5)"
            ]
          },
          "metadata": {},
          "execution_count": 5
        }
      ]
    },
    {
      "cell_type": "markdown",
      "source": [
        "Info Dataset"
      ],
      "metadata": {
        "id": "nryWLg6buoXl"
      }
    },
    {
      "cell_type": "code",
      "source": [
        "df_producers_relation.info()"
      ],
      "metadata": {
        "colab": {
          "base_uri": "https://localhost:8080/"
        },
        "id": "Fh7ESFF2VPEq",
        "outputId": "9b987295-a99d-4814-a2c3-fa84d372f48a"
      },
      "execution_count": null,
      "outputs": [
        {
          "output_type": "stream",
          "name": "stdout",
          "text": [
            "<class 'pandas.core.frame.DataFrame'>\n",
            "RangeIndex: 5086 entries, 0 to 5085\n",
            "Data columns (total 5 columns):\n",
            " #   Column    Non-Null Count  Dtype \n",
            "---  ------    --------------  ----- \n",
            " 0   id        5086 non-null   object\n",
            " 1   pid       5086 non-null   object\n",
            " 2   relation  5086 non-null   object\n",
            " 3   p1_name   5086 non-null   object\n",
            " 4   p2_name   5086 non-null   object\n",
            "dtypes: object(5)\n",
            "memory usage: 198.8+ KB\n"
          ]
        }
      ]
    },
    {
      "cell_type": "markdown",
      "source": [
        "## Model Graf"
      ],
      "metadata": {
        "id": "idKYLAsvaK6T"
      }
    },
    {
      "cell_type": "markdown",
      "source": [
        "Membuat Graf"
      ],
      "metadata": {
        "id": "fgnCOSzmuUgu"
      }
    },
    {
      "cell_type": "code",
      "source": [
        "p_graph = nx.Graph()\n",
        "\n",
        "for i in range(len(df_producers_relation)):\n",
        "  p_graph.add_edge(df_producers_relation['p1_name'][i], df_producers_relation['p2_name'][i])"
      ],
      "metadata": {
        "id": "jICiNk3giDNp"
      },
      "execution_count": null,
      "outputs": []
    },
    {
      "cell_type": "markdown",
      "source": [
        "Visualisasi Graf. Waktu Run sekitar 40 detik"
      ],
      "metadata": {
        "id": "vjs8cFyRnEbk"
      }
    },
    {
      "cell_type": "code",
      "source": [
        "nx.draw_networkx(p_graph, node_size=20, width=1, alpha=0.8, with_labels=False)\n",
        "plt.show()"
      ],
      "metadata": {
        "colab": {
          "base_uri": "https://localhost:8080/",
          "height": 466
        },
        "id": "9-c4GKQNmJ-c",
        "outputId": "a54644ec-b2c5-487f-b4c9-3e81b15b99ed"
      },
      "execution_count": null,
      "outputs": [
        {
          "output_type": "display_data",
          "data": {
            "text/plain": [
              "<Figure size 1080x576 with 1 Axes>"
            ],
            "image/png": "[encoded data removed]"
          },
          "metadata": {}
        }
      ]
    },
    {
      "cell_type": "markdown",
      "source": [
        "## Perhitungan Centrality"
      ],
      "metadata": {
        "id": "QeY52fnUsIJW"
      }
    },
    {
      "cell_type": "markdown",
      "source": [
        "### Degree Centrality"
      ],
      "metadata": {
        "id": "yffxC_ScofdV"
      }
    },
    {
      "cell_type": "markdown",
      "source": [
        "Menggunakan degree_centrality()"
      ],
      "metadata": {
        "id": "OL2hotFrsLnZ"
      }
    },
    {
      "cell_type": "code",
      "source": [
        "nilai_degree = nx.degree_centrality(p_graph)\n",
        "nilai_degree = dict(sorted(nilai_degree.items(), key=lambda item: item[1],reverse=True))\n",
        "# print(nilai_centrality)"
      ],
      "metadata": {
        "id": "GZHFYho5l0Ji"
      },
      "execution_count": null,
      "outputs": []
    },
    {
      "cell_type": "markdown",
      "source": [
        "Hasil menjadi Dataframe"
      ],
      "metadata": {
        "id": "APcpzCrksPCS"
      }
    },
    {
      "cell_type": "code",
      "source": [
        "list_influence = list(nilai_degree.keys())\n",
        "list_nilai = list(nilai_degree.values())\n",
        "\n",
        "df_degree = pd.DataFrame({'Top by Degree' : list_influence, 'Degree Centrality' : list_nilai})\n",
        "df_degree.head(10)"
      ],
      "metadata": {
        "colab": {
          "base_uri": "https://localhost:8080/",
          "height": 363
        },
        "id": "0bG0pdCGpM15",
        "outputId": "f2b543b1-59e3-4247-88d5-a5d0cd50443b"
      },
      "execution_count": null,
      "outputs": [
        {
          "output_type": "execute_result",
          "data": {
            "text/plain": [
              "             Top by Degree  Degree Centrality\n",
              "0              VISUAL ARTS           0.021821\n",
              "1                 WillPlus           0.013297\n",
              "2                   Nexton           0.009206\n",
              "3                  Hobibox           0.007501\n",
              "4                     Giga           0.006478\n",
              "5  Space Project Co., Ltd.           0.006478\n",
              "6                 CD Bros.           0.006137\n",
              "7     Interheart Co., Ltd.           0.005796\n",
              "8        PRODUCTION PENCIL           0.005114\n",
              "9                 MasterUp           0.005114"
            ],
            "text/html": [
              "\n",
              "  <div id=\"df-1ba2cff7-32c7-4746-be01-500c7ed5d8a2\">\n",
              "    <div class=\"colab-df-container\">\n",
              "      <div>\n",
              "<style scoped>\n",
              "    .dataframe tbody tr th:only-of-type {\n",
              "        vertical-align: middle;\n",
              "    }\n",
              "\n",
              "    .dataframe tbody tr th {\n",
              "        vertical-align: top;\n",
              "    }\n",
              "\n",
              "    .dataframe thead th {\n",
              "        text-align: right;\n",
              "    }\n",
              "</style>\n",
              "<table border=\"1\" class=\"dataframe\">\n",
              "  <thead>\n",
              "    <tr style=\"text-align: right;\">\n",
              "      <th></th>\n",
              "      <th>Top by Degree</th>\n",
              "      <th>Degree Centrality</th>\n",
              "    </tr>\n",
              "  </thead>\n",
              "  <tbody>\n",
              "    <tr>\n",
              "      <th>0</th>\n",
              "      <td>VISUAL ARTS</td>\n",
              "      <td>0.021821</td>\n",
              "    </tr>\n",
              "    <tr>\n",
              "      <th>1</th>\n",
              "      <td>WillPlus</td>\n",
              "      <td>0.013297</td>\n",
              "    </tr>\n",
              "    <tr>\n",
              "      <th>2</th>\n",
              "      <td>Nexton</td>\n",
              "      <td>0.009206</td>\n",
              "    </tr>\n",
              "    <tr>\n",
              "      <th>3</th>\n",
              "      <td>Hobibox</td>\n",
              "      <td>0.007501</td>\n",
              "    </tr>\n",
              "    <tr>\n",
              "      <th>4</th>\n",
              "      <td>Giga</td>\n",
              "      <td>0.006478</td>\n",
              "    </tr>\n",
              "    <tr>\n",
              "      <th>5</th>\n",
              "      <td>Space Project Co., Ltd.</td>\n",
              "      <td>0.006478</td>\n",
              "    </tr>\n",
              "    <tr>\n",
              "      <th>6</th>\n",
              "      <td>CD Bros.</td>\n",
              "      <td>0.006137</td>\n",
              "    </tr>\n",
              "    <tr>\n",
              "      <th>7</th>\n",
              "      <td>Interheart Co., Ltd.</td>\n",
              "      <td>0.005796</td>\n",
              "    </tr>\n",
              "    <tr>\n",
              "      <th>8</th>\n",
              "      <td>PRODUCTION PENCIL</td>\n",
              "      <td>0.005114</td>\n",
              "    </tr>\n",
              "    <tr>\n",
              "      <th>9</th>\n",
              "      <td>MasterUp</td>\n",
              "      <td>0.005114</td>\n",
              "    </tr>\n",
              "  </tbody>\n",
              "</table>\n",
              "</div>\n",
              "      <button class=\"colab-df-convert\" onclick=\"convertToInteractive('df-1ba2cff7-32c7-4746-be01-500c7ed5d8a2')\"\n",
              "              title=\"Convert this dataframe to an interactive table.\"\n",
              "              style=\"display:none;\">\n",
              "        \n",
              "  <svg xmlns=\"http://www.w3.org/2000/svg\" height=\"24px\"viewBox=\"0 0 24 24\"\n",
              "       width=\"24px\">\n",
              "    <path d=\"M0 0h24v24H0V0z\" fill=\"none\"/>\n",
              "    <path d=\"M18.56 5.44l.94 2.06.94-2.06 2.06-.94-2.06-.94-.94-2.06-.94 2.06-2.06.94zm-11 1L8.5 8.5l.94-2.06 2.06-.94-2.06-.94L8.5 2.5l-.94 2.06-2.06.94zm10 10l.94 2.06.94-2.06 2.06-.94-2.06-.94-.94-2.06-.94 2.06-2.06.94z\"/><path d=\"M17.41 7.96l-1.37-1.37c-.4-.4-.92-.59-1.43-.59-.52 0-1.04.2-1.43.59L10.3 9.45l-7.72 7.72c-.78.78-.78 2.05 0 2.83L4 21.41c.39.39.9.59 1.41.59.51 0 1.02-.2 1.41-.59l7.78-7.78 2.81-2.81c.8-.78.8-2.07 0-2.86zM5.41 20L4 18.59l7.72-7.72 1.47 1.35L5.41 20z\"/>\n",
              "  </svg>\n",
              "      </button>\n",
              "      \n",
              "  <style>\n",
              "    .colab-df-container {\n",
              "      display:flex;\n",
              "      flex-wrap:wrap;\n",
              "      gap: 12px;\n",
              "    }\n",
              "\n",
              "    .colab-df-convert {\n",
              "      background-color: #E8F0FE;\n",
              "      border: none;\n",
              "      border-radius: 50%;\n",
              "      cursor: pointer;\n",
              "      display: none;\n",
              "      fill: #1967D2;\n",
              "      height: 32px;\n",
              "      padding: 0 0 0 0;\n",
              "      width: 32px;\n",
              "    }\n",
              "\n",
              "    .colab-df-convert:hover {\n",
              "      background-color: #E2EBFA;\n",
              "      box-shadow: 0px 1px 2px rgba(60, 64, 67, 0.3), 0px 1px 3px 1px rgba(60, 64, 67, 0.15);\n",
              "      fill: #174EA6;\n",
              "    }\n",
              "\n",
              "    [theme=dark] .colab-df-convert {\n",
              "      background-color: #3B4455;\n",
              "      fill: #D2E3FC;\n",
              "    }\n",
              "\n",
              "    [theme=dark] .colab-df-convert:hover {\n",
              "      background-color: #434B5C;\n",
              "      box-shadow: 0px 1px 3px 1px rgba(0, 0, 0, 0.15);\n",
              "      filter: drop-shadow(0px 1px 2px rgba(0, 0, 0, 0.3));\n",
              "      fill: #FFFFFF;\n",
              "    }\n",
              "  </style>\n",
              "\n",
              "      <script>\n",
              "        const buttonEl =\n",
              "          document.querySelector('#df-1ba2cff7-32c7-4746-be01-500c7ed5d8a2 button.colab-df-convert');\n",
              "        buttonEl.style.display =\n",
              "          google.colab.kernel.accessAllowed ? 'block' : 'none';\n",
              "\n",
              "        async function convertToInteractive(key) {\n",
              "          const element = document.querySelector('#df-1ba2cff7-32c7-4746-be01-500c7ed5d8a2');\n",
              "          const dataTable =\n",
              "            await google.colab.kernel.invokeFunction('convertToInteractive',\n",
              "                                                     [key], {});\n",
              "          if (!dataTable) return;\n",
              "\n",
              "          const docLinkHtml = 'Like what you see? Visit the ' +\n",
              "            '<a target=\"_blank\" href=https://colab.research.google.com/notebooks/data_table.ipynb>data table notebook</a>'\n",
              "            + ' to learn more about interactive tables.';\n",
              "          element.innerHTML = '';\n",
              "          dataTable['output_type'] = 'display_data';\n",
              "          await google.colab.output.renderOutput(dataTable, element);\n",
              "          const docLink = document.createElement('div');\n",
              "          docLink.innerHTML = docLinkHtml;\n",
              "          element.appendChild(docLink);\n",
              "        }\n",
              "      </script>\n",
              "    </div>\n",
              "  </div>\n",
              "  "
            ]
          },
          "metadata": {},
          "execution_count": 61
        }
      ]
    },
    {
      "cell_type": "markdown",
      "source": [
        "### Betweenness Centrality"
      ],
      "metadata": {
        "id": "hE3uZZwtpBsq"
      }
    },
    {
      "cell_type": "markdown",
      "source": [
        "Menggunakan betweenness_centrality(). Perkiraaan 11 detik"
      ],
      "metadata": {
        "id": "3XnN3EuqpBss"
      }
    },
    {
      "cell_type": "code",
      "source": [
        "nilai_betweenness = nx.betweenness_centrality(p_graph)\n",
        "nilai_betweenness = dict(sorted(nilai_betweenness.items(), key=lambda item: item[1],reverse=True))\n",
        "# print(nilai_centrality)"
      ],
      "metadata": {
        "id": "ZrydZcNqpBsu"
      },
      "execution_count": null,
      "outputs": []
    },
    {
      "cell_type": "markdown",
      "source": [
        "Hasil menjadi Dataframe"
      ],
      "metadata": {
        "id": "uVvGFVVppBsv"
      }
    },
    {
      "cell_type": "code",
      "source": [
        "list_influence = list(nilai_betweenness.keys())\n",
        "list_nilai = list(nilai_betweenness.values())\n",
        "\n",
        "df_betweenness = pd.DataFrame({'Top by Betweenness' : list_influence, 'Betwenness Centrality' : list_nilai})\n",
        "df_betweenness.head(10)"
      ],
      "metadata": {
        "colab": {
          "base_uri": "https://localhost:8080/",
          "height": 363
        },
        "outputId": "a32b6074-be28-4a30-8e42-7ddb74211032",
        "id": "UKOI-uFDpBsv"
      },
      "execution_count": null,
      "outputs": [
        {
          "output_type": "execute_result",
          "data": {
            "text/plain": [
              "      Top by Betweenness  Betwenness Centrality\n",
              "0            VISUAL ARTS               0.028919\n",
              "1                Hobibox               0.026658\n",
              "2                 Nexton               0.021444\n",
              "3                   IDES               0.016557\n",
              "4          F&C Co., Ltd.               0.016385\n",
              "5  STONE HEADS Co., Ltd.               0.015169\n",
              "6                 Kirara               0.014513\n",
              "7              CRAFTWORK               0.013393\n",
              "8                    PIL               0.013320\n",
              "9               Yumemiru               0.013249"
            ],
            "text/html": [
              "\n",
              "  <div id=\"df-70c00fb4-daea-45c7-8a70-14cbfa8f3b40\">\n",
              "    <div class=\"colab-df-container\">\n",
              "      <div>\n",
              "<style scoped>\n",
              "    .dataframe tbody tr th:only-of-type {\n",
              "        vertical-align: middle;\n",
              "    }\n",
              "\n",
              "    .dataframe tbody tr th {\n",
              "        vertical-align: top;\n",
              "    }\n",
              "\n",
              "    .dataframe thead th {\n",
              "        text-align: right;\n",
              "    }\n",
              "</style>\n",
              "<table border=\"1\" class=\"dataframe\">\n",
              "  <thead>\n",
              "    <tr style=\"text-align: right;\">\n",
              "      <th></th>\n",
              "      <th>Top by Betweenness</th>\n",
              "      <th>Betwenness Centrality</th>\n",
              "    </tr>\n",
              "  </thead>\n",
              "  <tbody>\n",
              "    <tr>\n",
              "      <th>0</th>\n",
              "      <td>VISUAL ARTS</td>\n",
              "      <td>0.028919</td>\n",
              "    </tr>\n",
              "    <tr>\n",
              "      <th>1</th>\n",
              "      <td>Hobibox</td>\n",
              "      <td>0.026658</td>\n",
              "    </tr>\n",
              "    <tr>\n",
              "      <th>2</th>\n",
              "      <td>Nexton</td>\n",
              "      <td>0.021444</td>\n",
              "    </tr>\n",
              "    <tr>\n",
              "      <th>3</th>\n",
              "      <td>IDES</td>\n",
              "      <td>0.016557</td>\n",
              "    </tr>\n",
              "    <tr>\n",
              "      <th>4</th>\n",
              "      <td>F&amp;C Co., Ltd.</td>\n",
              "      <td>0.016385</td>\n",
              "    </tr>\n",
              "    <tr>\n",
              "      <th>5</th>\n",
              "      <td>STONE HEADS Co., Ltd.</td>\n",
              "      <td>0.015169</td>\n",
              "    </tr>\n",
              "    <tr>\n",
              "      <th>6</th>\n",
              "      <td>Kirara</td>\n",
              "      <td>0.014513</td>\n",
              "    </tr>\n",
              "    <tr>\n",
              "      <th>7</th>\n",
              "      <td>CRAFTWORK</td>\n",
              "      <td>0.013393</td>\n",
              "    </tr>\n",
              "    <tr>\n",
              "      <th>8</th>\n",
              "      <td>PIL</td>\n",
              "      <td>0.013320</td>\n",
              "    </tr>\n",
              "    <tr>\n",
              "      <th>9</th>\n",
              "      <td>Yumemiru</td>\n",
              "      <td>0.013249</td>\n",
              "    </tr>\n",
              "  </tbody>\n",
              "</table>\n",
              "</div>\n",
              "      <button class=\"colab-df-convert\" onclick=\"convertToInteractive('df-70c00fb4-daea-45c7-8a70-14cbfa8f3b40')\"\n",
              "              title=\"Convert this dataframe to an interactive table.\"\n",
              "              style=\"display:none;\">\n",
              "        \n",
              "  <svg xmlns=\"http://www.w3.org/2000/svg\" height=\"24px\"viewBox=\"0 0 24 24\"\n",
              "       width=\"24px\">\n",
              "    <path d=\"M0 0h24v24H0V0z\" fill=\"none\"/>\n",
              "    <path d=\"M18.56 5.44l.94 2.06.94-2.06 2.06-.94-2.06-.94-.94-2.06-.94 2.06-2.06.94zm-11 1L8.5 8.5l.94-2.06 2.06-.94-2.06-.94L8.5 2.5l-.94 2.06-2.06.94zm10 10l.94 2.06.94-2.06 2.06-.94-2.06-.94-.94-2.06-.94 2.06-2.06.94z\"/><path d=\"M17.41 7.96l-1.37-1.37c-.4-.4-.92-.59-1.43-.59-.52 0-1.04.2-1.43.59L10.3 9.45l-7.72 7.72c-.78.78-.78 2.05 0 2.83L4 21.41c.39.39.9.59 1.41.59.51 0 1.02-.2 1.41-.59l7.78-7.78 2.81-2.81c.8-.78.8-2.07 0-2.86zM5.41 20L4 18.59l7.72-7.72 1.47 1.35L5.41 20z\"/>\n",
              "  </svg>\n",
              "      </button>\n",
              "      \n",
              "  <style>\n",
              "    .colab-df-container {\n",
              "      display:flex;\n",
              "      flex-wrap:wrap;\n",
              "      gap: 12px;\n",
              "    }\n",
              "\n",
              "    .colab-df-convert {\n",
              "      background-color: #E8F0FE;\n",
              "      border: none;\n",
              "      border-radius: 50%;\n",
              "      cursor: pointer;\n",
              "      display: none;\n",
              "      fill: #1967D2;\n",
              "      height: 32px;\n",
              "      padding: 0 0 0 0;\n",
              "      width: 32px;\n",
              "    }\n",
              "\n",
              "    .colab-df-convert:hover {\n",
              "      background-color: #E2EBFA;\n",
              "      box-shadow: 0px 1px 2px rgba(60, 64, 67, 0.3), 0px 1px 3px 1px rgba(60, 64, 67, 0.15);\n",
              "      fill: #174EA6;\n",
              "    }\n",
              "\n",
              "    [theme=dark] .colab-df-convert {\n",
              "      background-color: #3B4455;\n",
              "      fill: #D2E3FC;\n",
              "    }\n",
              "\n",
              "    [theme=dark] .colab-df-convert:hover {\n",
              "      background-color: #434B5C;\n",
              "      box-shadow: 0px 1px 3px 1px rgba(0, 0, 0, 0.15);\n",
              "      filter: drop-shadow(0px 1px 2px rgba(0, 0, 0, 0.3));\n",
              "      fill: #FFFFFF;\n",
              "    }\n",
              "  </style>\n",
              "\n",
              "      <script>\n",
              "        const buttonEl =\n",
              "          document.querySelector('#df-70c00fb4-daea-45c7-8a70-14cbfa8f3b40 button.colab-df-convert');\n",
              "        buttonEl.style.display =\n",
              "          google.colab.kernel.accessAllowed ? 'block' : 'none';\n",
              "\n",
              "        async function convertToInteractive(key) {\n",
              "          const element = document.querySelector('#df-70c00fb4-daea-45c7-8a70-14cbfa8f3b40');\n",
              "          const dataTable =\n",
              "            await google.colab.kernel.invokeFunction('convertToInteractive',\n",
              "                                                     [key], {});\n",
              "          if (!dataTable) return;\n",
              "\n",
              "          const docLinkHtml = 'Like what you see? Visit the ' +\n",
              "            '<a target=\"_blank\" href=https://colab.research.google.com/notebooks/data_table.ipynb>data table notebook</a>'\n",
              "            + ' to learn more about interactive tables.';\n",
              "          element.innerHTML = '';\n",
              "          dataTable['output_type'] = 'display_data';\n",
              "          await google.colab.output.renderOutput(dataTable, element);\n",
              "          const docLink = document.createElement('div');\n",
              "          docLink.innerHTML = docLinkHtml;\n",
              "          element.appendChild(docLink);\n",
              "        }\n",
              "      </script>\n",
              "    </div>\n",
              "  </div>\n",
              "  "
            ]
          },
          "metadata": {},
          "execution_count": 65
        }
      ]
    },
    {
      "cell_type": "markdown",
      "source": [
        "### Eigenvector Centrality"
      ],
      "metadata": {
        "id": "QueO8RMipCku"
      }
    },
    {
      "cell_type": "markdown",
      "source": [
        "Menggunakan eigenvector_centrality()"
      ],
      "metadata": {
        "id": "W-8II1PgpCku"
      }
    },
    {
      "cell_type": "code",
      "source": [
        "nilai_eigenvector = nx.eigenvector_centrality(p_graph)\n",
        "nilai_eigenvector = dict(sorted(nilai_eigenvector.items(), key=lambda item: item[1],reverse=True))\n",
        "# print(nilai_centrality)"
      ],
      "metadata": {
        "id": "IykBTazmpCkv"
      },
      "execution_count": null,
      "outputs": []
    },
    {
      "cell_type": "markdown",
      "source": [
        "Hasil menjadi Dataframe"
      ],
      "metadata": {
        "id": "T1zFk5HGpCkw"
      }
    },
    {
      "cell_type": "code",
      "source": [
        "list_influence = list(nilai_eigenvector.keys())\n",
        "list_nilai = list(nilai_eigenvector.values())\n",
        "\n",
        "df_eigenvector = pd.DataFrame({'Top by Eigenvector' : list_influence, 'Eigenvector Centrality' : list_nilai})\n",
        "df_eigenvector.head(10)"
      ],
      "metadata": {
        "colab": {
          "base_uri": "https://localhost:8080/",
          "height": 363
        },
        "outputId": "327c393f-a8c1-4309-8503-993a1b20c785",
        "id": "oP4kaAIVpCkw"
      },
      "execution_count": null,
      "outputs": [
        {
          "output_type": "execute_result",
          "data": {
            "text/plain": [
              "        Top by Eigenvector  Eigenvector Centrality\n",
              "0              VISUAL ARTS                0.700779\n",
              "1       Visual Art's Motto                0.111279\n",
              "2                     ZERO                0.111079\n",
              "3                PROTOTYPE                0.101686\n",
              "4  Softhouse Bonbee Bonbon                0.100301\n",
              "5     Visual Art's MottoSP                0.100115\n",
              "6              Studio Ring                0.100091\n",
              "7                   Miyabi                0.100091\n",
              "8                  Bonbee!                0.098762\n",
              "9                CRAFTWORK                0.089128"
            ],
            "text/html": [
              "\n",
              "  <div id=\"df-0a95178b-a088-485f-9f78-b3d207f58959\">\n",
              "    <div class=\"colab-df-container\">\n",
              "      <div>\n",
              "<style scoped>\n",
              "    .dataframe tbody tr th:only-of-type {\n",
              "        vertical-align: middle;\n",
              "    }\n",
              "\n",
              "    .dataframe tbody tr th {\n",
              "        vertical-align: top;\n",
              "    }\n",
              "\n",
              "    .dataframe thead th {\n",
              "        text-align: right;\n",
              "    }\n",
              "</style>\n",
              "<table border=\"1\" class=\"dataframe\">\n",
              "  <thead>\n",
              "    <tr style=\"text-align: right;\">\n",
              "      <th></th>\n",
              "      <th>Top by Eigenvector</th>\n",
              "      <th>Eigenvector Centrality</th>\n",
              "    </tr>\n",
              "  </thead>\n",
              "  <tbody>\n",
              "    <tr>\n",
              "      <th>0</th>\n",
              "      <td>VISUAL ARTS</td>\n",
              "      <td>0.700779</td>\n",
              "    </tr>\n",
              "    <tr>\n",
              "      <th>1</th>\n",
              "      <td>Visual Art's Motto</td>\n",
              "      <td>0.111279</td>\n",
              "    </tr>\n",
              "    <tr>\n",
              "      <th>2</th>\n",
              "      <td>ZERO</td>\n",
              "      <td>0.111079</td>\n",
              "    </tr>\n",
              "    <tr>\n",
              "      <th>3</th>\n",
              "      <td>PROTOTYPE</td>\n",
              "      <td>0.101686</td>\n",
              "    </tr>\n",
              "    <tr>\n",
              "      <th>4</th>\n",
              "      <td>Softhouse Bonbee Bonbon</td>\n",
              "      <td>0.100301</td>\n",
              "    </tr>\n",
              "    <tr>\n",
              "      <th>5</th>\n",
              "      <td>Visual Art's MottoSP</td>\n",
              "      <td>0.100115</td>\n",
              "    </tr>\n",
              "    <tr>\n",
              "      <th>6</th>\n",
              "      <td>Studio Ring</td>\n",
              "      <td>0.100091</td>\n",
              "    </tr>\n",
              "    <tr>\n",
              "      <th>7</th>\n",
              "      <td>Miyabi</td>\n",
              "      <td>0.100091</td>\n",
              "    </tr>\n",
              "    <tr>\n",
              "      <th>8</th>\n",
              "      <td>Bonbee!</td>\n",
              "      <td>0.098762</td>\n",
              "    </tr>\n",
              "    <tr>\n",
              "      <th>9</th>\n",
              "      <td>CRAFTWORK</td>\n",
              "      <td>0.089128</td>\n",
              "    </tr>\n",
              "  </tbody>\n",
              "</table>\n",
              "</div>\n",
              "      <button class=\"colab-df-convert\" onclick=\"convertToInteractive('df-0a95178b-a088-485f-9f78-b3d207f58959')\"\n",
              "              title=\"Convert this dataframe to an interactive table.\"\n",
              "              style=\"display:none;\">\n",
              "        \n",
              "  <svg xmlns=\"http://www.w3.org/2000/svg\" height=\"24px\"viewBox=\"0 0 24 24\"\n",
              "       width=\"24px\">\n",
              "    <path d=\"M0 0h24v24H0V0z\" fill=\"none\"/>\n",
              "    <path d=\"M18.56 5.44l.94 2.06.94-2.06 2.06-.94-2.06-.94-.94-2.06-.94 2.06-2.06.94zm-11 1L8.5 8.5l.94-2.06 2.06-.94-2.06-.94L8.5 2.5l-.94 2.06-2.06.94zm10 10l.94 2.06.94-2.06 2.06-.94-2.06-.94-.94-2.06-.94 2.06-2.06.94z\"/><path d=\"M17.41 7.96l-1.37-1.37c-.4-.4-.92-.59-1.43-.59-.52 0-1.04.2-1.43.59L10.3 9.45l-7.72 7.72c-.78.78-.78 2.05 0 2.83L4 21.41c.39.39.9.59 1.41.59.51 0 1.02-.2 1.41-.59l7.78-7.78 2.81-2.81c.8-.78.8-2.07 0-2.86zM5.41 20L4 18.59l7.72-7.72 1.47 1.35L5.41 20z\"/>\n",
              "  </svg>\n",
              "      </button>\n",
              "      \n",
              "  <style>\n",
              "    .colab-df-container {\n",
              "      display:flex;\n",
              "      flex-wrap:wrap;\n",
              "      gap: 12px;\n",
              "    }\n",
              "\n",
              "    .colab-df-convert {\n",
              "      background-color: #E8F0FE;\n",
              "      border: none;\n",
              "      border-radius: 50%;\n",
              "      cursor: pointer;\n",
              "      display: none;\n",
              "      fill: #1967D2;\n",
              "      height: 32px;\n",
              "      padding: 0 0 0 0;\n",
              "      width: 32px;\n",
              "    }\n",
              "\n",
              "    .colab-df-convert:hover {\n",
              "      background-color: #E2EBFA;\n",
              "      box-shadow: 0px 1px 2px rgba(60, 64, 67, 0.3), 0px 1px 3px 1px rgba(60, 64, 67, 0.15);\n",
              "      fill: #174EA6;\n",
              "    }\n",
              "\n",
              "    [theme=dark] .colab-df-convert {\n",
              "      background-color: #3B4455;\n",
              "      fill: #D2E3FC;\n",
              "    }\n",
              "\n",
              "    [theme=dark] .colab-df-convert:hover {\n",
              "      background-color: #434B5C;\n",
              "      box-shadow: 0px 1px 3px 1px rgba(0, 0, 0, 0.15);\n",
              "      filter: drop-shadow(0px 1px 2px rgba(0, 0, 0, 0.3));\n",
              "      fill: #FFFFFF;\n",
              "    }\n",
              "  </style>\n",
              "\n",
              "      <script>\n",
              "        const buttonEl =\n",
              "          document.querySelector('#df-0a95178b-a088-485f-9f78-b3d207f58959 button.colab-df-convert');\n",
              "        buttonEl.style.display =\n",
              "          google.colab.kernel.accessAllowed ? 'block' : 'none';\n",
              "\n",
              "        async function convertToInteractive(key) {\n",
              "          const element = document.querySelector('#df-0a95178b-a088-485f-9f78-b3d207f58959');\n",
              "          const dataTable =\n",
              "            await google.colab.kernel.invokeFunction('convertToInteractive',\n",
              "                                                     [key], {});\n",
              "          if (!dataTable) return;\n",
              "\n",
              "          const docLinkHtml = 'Like what you see? Visit the ' +\n",
              "            '<a target=\"_blank\" href=https://colab.research.google.com/notebooks/data_table.ipynb>data table notebook</a>'\n",
              "            + ' to learn more about interactive tables.';\n",
              "          element.innerHTML = '';\n",
              "          dataTable['output_type'] = 'display_data';\n",
              "          await google.colab.output.renderOutput(dataTable, element);\n",
              "          const docLink = document.createElement('div');\n",
              "          docLink.innerHTML = docLinkHtml;\n",
              "          element.appendChild(docLink);\n",
              "        }\n",
              "      </script>\n",
              "    </div>\n",
              "  </div>\n",
              "  "
            ]
          },
          "metadata": {},
          "execution_count": 67
        }
      ]
    },
    {
      "cell_type": "markdown",
      "source": [
        "## Influential Akhir"
      ],
      "metadata": {
        "id": "pEraEDmRrGaG"
      }
    },
    {
      "cell_type": "markdown",
      "source": [
        "Menggabungkan ketiga hasil centrality"
      ],
      "metadata": {
        "id": "BfOuhgF42u9j"
      }
    },
    {
      "cell_type": "code",
      "source": [
        "df_influential = pd.concat([df_degree.head(10), df_betweenness.head(10), df_eigenvector.head(10)], axis=1)\n",
        "df_influential"
      ],
      "metadata": {
        "colab": {
          "base_uri": "https://localhost:8080/",
          "height": 363
        },
        "id": "UHI8-Ygnrbrj",
        "outputId": "e76204b8-be8e-433a-cb90-8e89a77ebf99"
      },
      "execution_count": null,
      "outputs": [
        {
          "output_type": "execute_result",
          "data": {
            "text/plain": [
              "             Top by Degree  Degree Centrality     Top by Betweenness  \\\n",
              "0              VISUAL ARTS           0.021821            VISUAL ARTS   \n",
              "1                 WillPlus           0.013297                Hobibox   \n",
              "2                   Nexton           0.009206                 Nexton   \n",
              "3                  Hobibox           0.007501                   IDES   \n",
              "4                     Giga           0.006478          F&C Co., Ltd.   \n",
              "5  Space Project Co., Ltd.           0.006478  STONE HEADS Co., Ltd.   \n",
              "6                 CD Bros.           0.006137                 Kirara   \n",
              "7     Interheart Co., Ltd.           0.005796              CRAFTWORK   \n",
              "8        PRODUCTION PENCIL           0.005114                    PIL   \n",
              "9                 MasterUp           0.005114               Yumemiru   \n",
              "\n",
              "   Betwenness Centrality       Top by Eigenvector  Eigenvector Centrality  \n",
              "0               0.028919              VISUAL ARTS                0.700779  \n",
              "1               0.026658       Visual Art's Motto                0.111279  \n",
              "2               0.021444                     ZERO                0.111079  \n",
              "3               0.016557                PROTOTYPE                0.101686  \n",
              "4               0.016385  Softhouse Bonbee Bonbon                0.100301  \n",
              "5               0.015169     Visual Art's MottoSP                0.100115  \n",
              "6               0.014513              Studio Ring                0.100091  \n",
              "7               0.013393                   Miyabi                0.100091  \n",
              "8               0.013320                  Bonbee!                0.098762  \n",
              "9               0.013249                CRAFTWORK                0.089128  "
            ],
            "text/html": [
              "\n",
              "  <div id=\"df-97f85f9e-7c3e-4da7-b745-903256fa4c0e\">\n",
              "    <div class=\"colab-df-container\">\n",
              "      <div>\n",
              "<style scoped>\n",
              "    .dataframe tbody tr th:only-of-type {\n",
              "        vertical-align: middle;\n",
              "    }\n",
              "\n",
              "    .dataframe tbody tr th {\n",
              "        vertical-align: top;\n",
              "    }\n",
              "\n",
              "    .dataframe thead th {\n",
              "        text-align: right;\n",
              "    }\n",
              "</style>\n",
              "<table border=\"1\" class=\"dataframe\">\n",
              "  <thead>\n",
              "    <tr style=\"text-align: right;\">\n",
              "      <th></th>\n",
              "      <th>Top by Degree</th>\n",
              "      <th>Degree Centrality</th>\n",
              "      <th>Top by Betweenness</th>\n",
              "      <th>Betwenness Centrality</th>\n",
              "      <th>Top by Eigenvector</th>\n",
              "      <th>Eigenvector Centrality</th>\n",
              "    </tr>\n",
              "  </thead>\n",
              "  <tbody>\n",
              "    <tr>\n",
              "      <th>0</th>\n",
              "      <td>VISUAL ARTS</td>\n",
              "      <td>0.021821</td>\n",
              "      <td>VISUAL ARTS</td>\n",
              "      <td>0.028919</td>\n",
              "      <td>VISUAL ARTS</td>\n",
              "      <td>0.700779</td>\n",
              "    </tr>\n",
              "    <tr>\n",
              "      <th>1</th>\n",
              "      <td>WillPlus</td>\n",
              "      <td>0.013297</td>\n",
              "      <td>Hobibox</td>\n",
              "      <td>0.026658</td>\n",
              "      <td>Visual Art's Motto</td>\n",
              "      <td>0.111279</td>\n",
              "    </tr>\n",
              "    <tr>\n",
              "      <th>2</th>\n",
              "      <td>Nexton</td>\n",
              "      <td>0.009206</td>\n",
              "      <td>Nexton</td>\n",
              "      <td>0.021444</td>\n",
              "      <td>ZERO</td>\n",
              "      <td>0.111079</td>\n",
              "    </tr>\n",
              "    <tr>\n",
              "      <th>3</th>\n",
              "      <td>Hobibox</td>\n",
              "      <td>0.007501</td>\n",
              "      <td>IDES</td>\n",
              "      <td>0.016557</td>\n",
              "      <td>PROTOTYPE</td>\n",
              "      <td>0.101686</td>\n",
              "    </tr>\n",
              "    <tr>\n",
              "      <th>4</th>\n",
              "      <td>Giga</td>\n",
              "      <td>0.006478</td>\n",
              "      <td>F&amp;C Co., Ltd.</td>\n",
              "      <td>0.016385</td>\n",
              "      <td>Softhouse Bonbee Bonbon</td>\n",
              "      <td>0.100301</td>\n",
              "    </tr>\n",
              "    <tr>\n",
              "      <th>5</th>\n",
              "      <td>Space Project Co., Ltd.</td>\n",
              "      <td>0.006478</td>\n",
              "      <td>STONE HEADS Co., Ltd.</td>\n",
              "      <td>0.015169</td>\n",
              "      <td>Visual Art's MottoSP</td>\n",
              "      <td>0.100115</td>\n",
              "    </tr>\n",
              "    <tr>\n",
              "      <th>6</th>\n",
              "      <td>CD Bros.</td>\n",
              "      <td>0.006137</td>\n",
              "      <td>Kirara</td>\n",
              "      <td>0.014513</td>\n",
              "      <td>Studio Ring</td>\n",
              "      <td>0.100091</td>\n",
              "    </tr>\n",
              "    <tr>\n",
              "      <th>7</th>\n",
              "      <td>Interheart Co., Ltd.</td>\n",
              "      <td>0.005796</td>\n",
              "      <td>CRAFTWORK</td>\n",
              "      <td>0.013393</td>\n",
              "      <td>Miyabi</td>\n",
              "      <td>0.100091</td>\n",
              "    </tr>\n",
              "    <tr>\n",
              "      <th>8</th>\n",
              "      <td>PRODUCTION PENCIL</td>\n",
              "      <td>0.005114</td>\n",
              "      <td>PIL</td>\n",
              "      <td>0.013320</td>\n",
              "      <td>Bonbee!</td>\n",
              "      <td>0.098762</td>\n",
              "    </tr>\n",
              "    <tr>\n",
              "      <th>9</th>\n",
              "      <td>MasterUp</td>\n",
              "      <td>0.005114</td>\n",
              "      <td>Yumemiru</td>\n",
              "      <td>0.013249</td>\n",
              "      <td>CRAFTWORK</td>\n",
              "      <td>0.089128</td>\n",
              "    </tr>\n",
              "  </tbody>\n",
              "</table>\n",
              "</div>\n",
              "      <button class=\"colab-df-convert\" onclick=\"convertToInteractive('df-97f85f9e-7c3e-4da7-b745-903256fa4c0e')\"\n",
              "              title=\"Convert this dataframe to an interactive table.\"\n",
              "              style=\"display:none;\">\n",
              "        \n",
              "  <svg xmlns=\"http://www.w3.org/2000/svg\" height=\"24px\"viewBox=\"0 0 24 24\"\n",
              "       width=\"24px\">\n",
              "    <path d=\"M0 0h24v24H0V0z\" fill=\"none\"/>\n",
              "    <path d=\"M18.56 5.44l.94 2.06.94-2.06 2.06-.94-2.06-.94-.94-2.06-.94 2.06-2.06.94zm-11 1L8.5 8.5l.94-2.06 2.06-.94-2.06-.94L8.5 2.5l-.94 2.06-2.06.94zm10 10l.94 2.06.94-2.06 2.06-.94-2.06-.94-.94-2.06-.94 2.06-2.06.94z\"/><path d=\"M17.41 7.96l-1.37-1.37c-.4-.4-.92-.59-1.43-.59-.52 0-1.04.2-1.43.59L10.3 9.45l-7.72 7.72c-.78.78-.78 2.05 0 2.83L4 21.41c.39.39.9.59 1.41.59.51 0 1.02-.2 1.41-.59l7.78-7.78 2.81-2.81c.8-.78.8-2.07 0-2.86zM5.41 20L4 18.59l7.72-7.72 1.47 1.35L5.41 20z\"/>\n",
              "  </svg>\n",
              "      </button>\n",
              "      \n",
              "  <style>\n",
              "    .colab-df-container {\n",
              "      display:flex;\n",
              "      flex-wrap:wrap;\n",
              "      gap: 12px;\n",
              "    }\n",
              "\n",
              "    .colab-df-convert {\n",
              "      background-color: #E8F0FE;\n",
              "      border: none;\n",
              "      border-radius: 50%;\n",
              "      cursor: pointer;\n",
              "      display: none;\n",
              "      fill: #1967D2;\n",
              "      height: 32px;\n",
              "      padding: 0 0 0 0;\n",
              "      width: 32px;\n",
              "    }\n",
              "\n",
              "    .colab-df-convert:hover {\n",
              "      background-color: #E2EBFA;\n",
              "      box-shadow: 0px 1px 2px rgba(60, 64, 67, 0.3), 0px 1px 3px 1px rgba(60, 64, 67, 0.15);\n",
              "      fill: #174EA6;\n",
              "    }\n",
              "\n",
              "    [theme=dark] .colab-df-convert {\n",
              "      background-color: #3B4455;\n",
              "      fill: #D2E3FC;\n",
              "    }\n",
              "\n",
              "    [theme=dark] .colab-df-convert:hover {\n",
              "      background-color: #434B5C;\n",
              "      box-shadow: 0px 1px 3px 1px rgba(0, 0, 0, 0.15);\n",
              "      filter: drop-shadow(0px 1px 2px rgba(0, 0, 0, 0.3));\n",
              "      fill: #FFFFFF;\n",
              "    }\n",
              "  </style>\n",
              "\n",
              "      <script>\n",
              "        const buttonEl =\n",
              "          document.querySelector('#df-97f85f9e-7c3e-4da7-b745-903256fa4c0e button.colab-df-convert');\n",
              "        buttonEl.style.display =\n",
              "          google.colab.kernel.accessAllowed ? 'block' : 'none';\n",
              "\n",
              "        async function convertToInteractive(key) {\n",
              "          const element = document.querySelector('#df-97f85f9e-7c3e-4da7-b745-903256fa4c0e');\n",
              "          const dataTable =\n",
              "            await google.colab.kernel.invokeFunction('convertToInteractive',\n",
              "                                                     [key], {});\n",
              "          if (!dataTable) return;\n",
              "\n",
              "          const docLinkHtml = 'Like what you see? Visit the ' +\n",
              "            '<a target=\"_blank\" href=https://colab.research.google.com/notebooks/data_table.ipynb>data table notebook</a>'\n",
              "            + ' to learn more about interactive tables.';\n",
              "          element.innerHTML = '';\n",
              "          dataTable['output_type'] = 'display_data';\n",
              "          await google.colab.output.renderOutput(dataTable, element);\n",
              "          const docLink = document.createElement('div');\n",
              "          docLink.innerHTML = docLinkHtml;\n",
              "          element.appendChild(docLink);\n",
              "        }\n",
              "      </script>\n",
              "    </div>\n",
              "  </div>\n",
              "  "
            ]
          },
          "metadata": {},
          "execution_count": 68
        }
      ]
    },
    {
      "cell_type": "markdown",
      "source": [
        "Export ke Excel"
      ],
      "metadata": {
        "id": "Fc3tM_8Z2x41"
      }
    },
    {
      "cell_type": "code",
      "source": [
        "df_influential.to_excel(r'vn-producer-influencer.xlsx', index=False, header=True)"
      ],
      "metadata": {
        "id": "AA4nSD9F2zHS"
      },
      "execution_count": 70,
      "outputs": []
    },
    {
      "cell_type": "markdown",
      "source": [
        "## Statistik"
      ],
      "metadata": {
        "id": "Mo-LOkOQwnm-"
      }
    },
    {
      "cell_type": "code",
      "source": [
        "print(\"Banyaknya Nodes = \", p_graph.number_of_nodes())\n",
        "print(\"Banyaknya Edges = \", p_graph.number_of_edges())"
      ],
      "metadata": {
        "colab": {
          "base_uri": "https://localhost:8080/"
        },
        "id": "A-2_qxXGwqHE",
        "outputId": "2d6616e4-ad40-4e68-89c0-26d83cfbe21f"
      },
      "execution_count": null,
      "outputs": [
        {
          "output_type": "stream",
          "name": "stdout",
          "text": [
            "Banyaknya Nodes =  2934\n",
            "Banyaknya Edges =  2543\n"
          ]
        }
      ]
    }
  ]
}